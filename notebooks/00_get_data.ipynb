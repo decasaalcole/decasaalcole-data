{
 "cells": [
  {
   "cell_type": "code",
   "execution_count": null,
   "id": "b4afab4c-d1e1-418f-b7ff-aa70c89e32d4",
   "metadata": {
    "tags": []
   },
   "outputs": [],
   "source": [
    "import os\n",
    "import requests"
   ]
  },
  {
   "cell_type": "code",
   "execution_count": null,
   "id": "3adba1f7-3fa3-40a7-a5dc-19c41383334b",
   "metadata": {},
   "outputs": [],
   "source": [
    "from bs4 import BeautifulSoup\n",
    "from settings import (\n",
    "    DOWNLOAD_URL, \n",
    "    GVA_DOWNLOAD_AGAIN,\n",
    "    GVA_HOST,\n",
    "    REGISTER_FILENAME,\n",
    ")"
   ]
  },
  {
   "cell_type": "code",
   "execution_count": null,
   "id": "f49bbd78-0d79-4bc2-9b87-5b59ddb3eb29",
   "metadata": {},
   "outputs": [],
   "source": [
    "LOCAL_REGISTER_FILENAME = f'../data/{REGISTER_FILENAME}'"
   ]
  },
  {
   "cell_type": "code",
   "execution_count": null,
   "id": "efd5f63f-731e-43b6-99fd-945d2e5d34f3",
   "metadata": {},
   "outputs": [],
   "source": [
    "download_again = (not os.path.exists(LOCAL_REGISTER_FILENAME)) or (GVA_DOWNLOAD_AGAIN)"
   ]
  },
  {
   "cell_type": "code",
   "execution_count": null,
   "id": "1e3fc468-4fa7-48bd-8f2d-b31a61e78096",
   "metadata": {},
   "outputs": [],
   "source": [
    "if download_again:\n",
    "    web_response = requests.get(f'{GVA_HOST}/{DOWNLOAD_URL}')\n",
    "\n",
    "    webcontent = web_response.text\n",
    "    soup = BeautifulSoup(webcontent, 'html.parser')\n",
    "\n",
    "    register_url = [ reg.get('href') for reg in soup.select('a') if REGISTER_FILENAME in reg.get('href','')]\n",
    "\n",
    "    register_link = f'{GVA_HOST}{register_url[0]}'\n",
    "    \n",
    "    with requests.get(register_link, stream=True) as register_response:\n",
    "        # register_response.raise_for_status()\n",
    "        with open(LOCAL_REGISTER_FILENAME, 'wb') as lrf:\n",
    "            for chunk in register_response.iter_content(chunk_size=8192):\n",
    "                lrf.write(chunk)"
   ]
  },
  {
   "cell_type": "code",
   "execution_count": null,
   "id": "e2b08f3e-1a4d-4098-bb7c-ad87661a511c",
   "metadata": {},
   "outputs": [],
   "source": [
    "## https://www.nosolosig.com/articulos/1191-asi-hice-el-mapa-de-los-codigos-postales-de-espana-con-sig-y-datos-abiertos"
   ]
  }
 ],
 "metadata": {
  "kernelspec": {
   "display_name": "Python 3 (ipykernel)",
   "language": "python",
   "name": "python3"
  },
  "language_info": {
   "codemirror_mode": {
    "name": "ipython",
    "version": 3
   },
   "file_extension": ".py",
   "mimetype": "text/x-python",
   "name": "python",
   "nbconvert_exporter": "python",
   "pygments_lexer": "ipython3",
   "version": "3.8.10"
  }
 },
 "nbformat": 4,
 "nbformat_minor": 5
}
