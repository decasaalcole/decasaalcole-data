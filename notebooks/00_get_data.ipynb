{
 "cells": [
  {
   "cell_type": "code",
   "execution_count": null,
   "id": "b4afab4c-d1e1-418f-b7ff-aa70c89e32d4",
   "metadata": {
    "tags": []
   },
   "outputs": [],
   "source": [
    "import os\n",
    "import requests"
   ]
  },
  {
   "cell_type": "code",
   "execution_count": null,
   "id": "3adba1f7-3fa3-40a7-a5dc-19c41383334b",
   "metadata": {},
   "outputs": [],
   "source": [
    "from bs4 import BeautifulSoup\n",
    "from settings import (\n",
    "    CARTOCIUDAD_LIST,\n",
    "    DATA_FOLDER,\n",
    "    DOWNLOAD_URL, \n",
    "    GVA_HOST,\n",
    "    REGISTER_FILENAME,\n",
    ")\n",
    "from tqdm import tqdm\n",
    "from zipfile import ZipFile\n"
   ]
  },
  {
   "cell_type": "code",
   "execution_count": null,
   "id": "6a1211a0-5d80-4b52-a808-6c5bafcb181f",
   "metadata": {},
   "outputs": [],
   "source": [
    "# Flags to force GVA data download and CNIG data Unzip\n",
    "GVA_DOWNLOAD_AGAIN = False\n",
    "CNIG_UNZIP = False"
   ]
  },
  {
   "cell_type": "code",
   "execution_count": null,
   "id": "f49bbd78-0d79-4bc2-9b87-5b59ddb3eb29",
   "metadata": {},
   "outputs": [],
   "source": [
    "LOCAL_REGISTER_FILENAME = os.path.join(DATA_FOLDER,REGISTER_FILENAME)"
   ]
  },
  {
   "cell_type": "code",
   "execution_count": null,
   "id": "78e7edb6-5b56-4242-92d1-52e46dabeb19",
   "metadata": {},
   "outputs": [],
   "source": [
    "download_again = (not os.path.exists(LOCAL_REGISTER_FILENAME)) or (GVA_DOWNLOAD_AGAIN)\n",
    "if download_again:\n",
    "    # Get new register file link\n",
    "    web_response = requests.get(f'{GVA_HOST}/{DOWNLOAD_URL}')\n",
    "\n",
    "    webcontent = web_response.text\n",
    "    soup = BeautifulSoup(webcontent, 'html.parser')\n",
    "\n",
    "    register_url = [ reg.get('href') for reg in soup.select('a') if REGISTER_FILENAME in reg.get('href','')]\n",
    "    \n",
    "    # Download data from the new register link\n",
    "    register_link = f'{GVA_HOST}{register_url[0]}'\n",
    "    with requests.get(register_link, stream=True) as register_response:\n",
    "        # Save register data in disk\n",
    "        with open(LOCAL_REGISTER_FILENAME, 'wb') as lrf:\n",
    "            for chunk in register_response.iter_content(chunk_size=8192):\n",
    "                lrf.write(chunk)\n",
    "        print(f'INFO: Downloaded NEW {LOCAL_REGISTER_FILENAME}')\n",
    "else:\n",
    "    print(f'INFO: No NEW Download: Info in {LOCAL_REGISTER_FILENAME}')"
   ]
  },
  {
   "cell_type": "code",
   "execution_count": null,
   "id": "53690555-c737-4d71-9cc2-1122521994a0",
   "metadata": {},
   "outputs": [],
   "source": [
    "# Process the list of provinces from settings\n",
    "for provzipname in tqdm(CARTOCIUDAD_LIST):\n",
    "    zipname =  os.path.join(DATA_FOLDER,'zip', f'CARTOCIUDAD_CALLEJERO_{provzipname}.zip')\n",
    "    if os.path.exists(zipname):\n",
    "        with ZipFile(zipname, 'r') as zipfile:\n",
    "            for filearchive in zipfile.filelist:\n",
    "                internal_filename = filearchive.filename\n",
    "                # We only want the PK data\n",
    "                if 'PK' in internal_filename:    \n",
    "                    old_name = os.path.join(DATA_FOLDER,'PK',internal_filename)\n",
    "                    new_name = os.path.join(DATA_FOLDER,'PK', f\"{provzipname}_{internal_filename.split('/')[1]}\")\n",
    "                    unzip_again = (not os.path.exists(new_name)) or (CNIG_UNZIP)\n",
    "                    if unzip_again:\n",
    "                        zipfile.extract(internal_filename, os.path.join(f'{DATA_FOLDER}','PK'))\n",
    "                        os.rename(old_name, new_name)\n",
    "                        os.removedirs(os.path.join(DATA_FOLDER,'PK',f'CARTOCIUDAD_CALLEJERO_{provzipname}/'))\n",
    "                        print(f'INFO: Unziped {new_name}')\n",
    "                    else:\n",
    "                        print(f'INFO: No NEW Unzip for {new_name}')\n",
    "    else:\n",
    "        print(f'Download CARTOCiudad files for {provzipname} from CNIG: http://centrodedescargas.cnig.es/')"
   ]
  }
 ],
 "metadata": {
  "kernelspec": {
   "display_name": "Python 3 (ipykernel)",
   "language": "python",
   "name": "python3"
  },
  "language_info": {
   "codemirror_mode": {
    "name": "ipython",
    "version": 3
   },
   "file_extension": ".py",
   "mimetype": "text/x-python",
   "name": "python",
   "nbconvert_exporter": "python",
   "pygments_lexer": "ipython3",
   "version": "3.8.10"
  }
 },
 "nbformat": 4,
 "nbformat_minor": 5
}
