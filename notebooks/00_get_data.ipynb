{
 "cells": [
  {
   "cell_type": "code",
   "execution_count": null,
   "id": "b4afab4c-d1e1-418f-b7ff-aa70c89e32d4",
   "metadata": {
    "tags": []
   },
   "outputs": [],
   "source": [
    "import os\n",
    "import requests"
   ]
  },
  {
   "cell_type": "code",
   "execution_count": null,
   "id": "3adba1f7-3fa3-40a7-a5dc-19c41383334b",
   "metadata": {},
   "outputs": [],
   "source": [
    "from bs4 import BeautifulSoup\n",
    "from settings import (\n",
    "    CARTOCIUDAD_LIST,\n",
    "    CNIG_LIMITS_FILENAME,\n",
    "    CNIG_UNZIP,\n",
    "    DATA_FOLDER,\n",
    "    DOWNLOAD_URL,\n",
    "    GVA_DOWNLOAD_AGAIN,\n",
    "    GVA_HOST,\n",
    "    REGISTER_FILENAME,\n",
    ")\n",
    "from tqdm import tqdm\n",
    "from zipfile import ZipFile\n"
   ]
  },
  {
   "cell_type": "code",
   "execution_count": null,
   "id": "f49bbd78-0d79-4bc2-9b87-5b59ddb3eb29",
   "metadata": {},
   "outputs": [],
   "source": [
    "LOCAL_REGISTER_FILENAME = os.path.join(DATA_FOLDER,REGISTER_FILENAME)"
   ]
  },
  {
   "cell_type": "markdown",
   "id": "32236e09-1437-4c18-8448-1029cf8f3d6e",
   "metadata": {},
   "source": [
    "### DOWNLOAD GVA Schools Data"
   ]
  },
  {
   "cell_type": "code",
   "execution_count": null,
   "id": "78e7edb6-5b56-4242-92d1-52e46dabeb19",
   "metadata": {},
   "outputs": [],
   "source": [
    "download_again = (not os.path.exists(LOCAL_REGISTER_FILENAME)) or (GVA_DOWNLOAD_AGAIN)\n",
    "if download_again:\n",
    "    # Get new register file link\n",
    "    web_response = requests.get(f'{GVA_HOST}/{DOWNLOAD_URL}')\n",
    "\n",
    "    webcontent = web_response.text\n",
    "    soup = BeautifulSoup(webcontent, 'html.parser')\n",
    "\n",
    "    register_url = [ reg.get('href') for reg in soup.select('a') if REGISTER_FILENAME in reg.get('href','')]\n",
    "    \n",
    "    # Download data from the new register link\n",
    "    register_link = f'{GVA_HOST}{register_url[0]}'\n",
    "    with requests.get(register_link, stream=True) as register_response:\n",
    "        # Save register data in disk\n",
    "        with open(LOCAL_REGISTER_FILENAME, 'wb') as lrf:\n",
    "            for chunk in register_response.iter_content(chunk_size=8192):\n",
    "                lrf.write(chunk)\n",
    "        print(f'INFO: Downloaded NEW {LOCAL_REGISTER_FILENAME}')\n",
    "else:\n",
    "    print(f'INFO: No NEW Download: Info in {LOCAL_REGISTER_FILENAME}')"
   ]
  },
  {
   "cell_type": "markdown",
   "id": "72993554-957a-4964-bac0-6ad13e646ba3",
   "metadata": {},
   "source": [
    "### UNZIP CARTOCiudad PK Data "
   ]
  },
  {
   "cell_type": "code",
   "execution_count": null,
   "id": "53690555-c737-4d71-9cc2-1122521994a0",
   "metadata": {},
   "outputs": [],
   "source": [
    "# Process the list of provinces from settings\n",
    "for provzipname in tqdm(CARTOCIUDAD_LIST):\n",
    "    zipname =  os.path.join(DATA_FOLDER,'zip', f'CARTOCIUDAD_CALLEJERO_{provzipname}.zip')\n",
    "    if os.path.exists(zipname):\n",
    "        with ZipFile(zipname, 'r') as zipfile:\n",
    "            for filearchive in zipfile.filelist:\n",
    "                internal_filename = filearchive.filename\n",
    "                # We only want the PK data\n",
    "                if 'PK' in internal_filename:    \n",
    "                    old_name = os.path.join(DATA_FOLDER,'PK',internal_filename)\n",
    "                    new_name = os.path.join(DATA_FOLDER,'PK', f\"{provzipname}_{internal_filename.split('/')[1]}\")\n",
    "                    unzip_again = (not os.path.exists(new_name)) or (CNIG_UNZIP)\n",
    "                    if unzip_again:\n",
    "                        zipfile.extract(internal_filename, os.path.join(f'{DATA_FOLDER}','PK'))\n",
    "                        os.rename(old_name, new_name)\n",
    "                        os.removedirs(os.path.join(DATA_FOLDER,'PK',f'CARTOCIUDAD_CALLEJERO_{provzipname}/'))\n",
    "                        print(f'INFO: Unziped {new_name}')\n",
    "                    else:\n",
    "                        print(f'INFO: No NEW Unzip for {new_name}')\n",
    "    else:\n",
    "        print(f'Download CARTOCiudad files for {provzipname} from CNIG: http://centrodedescargas.cnig.es/')"
   ]
  },
  {
   "cell_type": "markdown",
   "id": "d1c05360-3126-4c88-bcbe-db0daad1ea24",
   "metadata": {},
   "source": [
    "### UNZIP CNIG Municipal Limits"
   ]
  },
  {
   "cell_type": "code",
   "execution_count": null,
   "id": "b237b2d2-43a3-4ce6-ab73-585b2416fc5e",
   "metadata": {},
   "outputs": [],
   "source": [
    "zipname =  os.path.join(DATA_FOLDER,'zip', 'lineas_limite.zip')\n",
    "if os.path.exists(zipname):\n",
    "    with ZipFile(zipname, 'r') as zipfile:\n",
    "        for filearchive in zipfile.filelist:\n",
    "            internal_filename = filearchive.filename\n",
    "            if CNIG_LIMITS_FILENAME in internal_filename:\n",
    "                old_name = os.path.join(DATA_FOLDER,internal_filename)\n",
    "                new_name = os.path.join(DATA_FOLDER, f\"{internal_filename.split('/')[-1]}\")\n",
    "                folder_tree = internal_filename.split('/')[:-1]\n",
    "                unzip_again = (not os.path.exists(new_name)) or (CNIG_UNZIP)\n",
    "                if unzip_again:\n",
    "                    zipfile.extract(internal_filename, DATA_FOLDER)\n",
    "                    os.rename(old_name, new_name)\n",
    "                    print(f'INFO: Unziped {new_name}')\n",
    "                else:\n",
    "                    print(f'INFO: No NEW Unzip for {new_name}')\n",
    "        os.removedirs(os.path.join(DATA_FOLDER, (os.sep).join(folder_tree)))\n",
    "else:\n",
    "    print(f'Download CNIG files for Municipal limits: http://centrodedescargas.cnig.es/')"
   ]
  },
  {
   "cell_type": "code",
   "execution_count": null,
   "id": "a363b27c-1f5c-4e5c-8f7b-f215f6c12484",
   "metadata": {},
   "outputs": [],
   "source": []
  }
 ],
 "metadata": {
  "kernelspec": {
   "display_name": "Python 3 (ipykernel)",
   "language": "python",
   "name": "python3"
  },
  "language_info": {
   "codemirror_mode": {
    "name": "ipython",
    "version": 3
   },
   "file_extension": ".py",
   "mimetype": "text/x-python",
   "name": "python",
   "nbconvert_exporter": "python",
   "pygments_lexer": "ipython3",
   "version": "3.8.10"
  }
 },
 "nbformat": 4,
 "nbformat_minor": 5
}
